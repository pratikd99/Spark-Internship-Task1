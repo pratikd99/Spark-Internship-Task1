{
 "cells": [
  {
   "cell_type": "code",
   "execution_count": null,
   "metadata": {},
   "outputs": [],
   "source": [
    "## By Pratik Patil\n",
    "## Intern at GRIP The Sparks Foundation"
   ]
  },
  {
   "cell_type": "code",
   "execution_count": null,
   "metadata": {},
   "outputs": [],
   "source": [
    "## Domain : Computer Vision & Internet of Things.\n",
    "## Task 1 : Object Detection / Optical Character Recognisation (ORC).\n",
    "## Level : Beginner."
   ]
  },
  {
   "cell_type": "code",
   "execution_count": 1,
   "metadata": {},
   "outputs": [],
   "source": [
    "## Solution :-\n",
    "# a. Imported libraries such as cv2 and matplotlb.\n",
    "# b. Read pretrained models from OpenCV Repository on Github.\n",
    "# c. Read data set from coco dataset which is already downloaded from OpenCV Repository.\n",
    "# d. Imported video labled as \"Cars - 1900.mp4\" from machine.\n",
    "# e. Displaying the detected box for an image and class name for the same."
   ]
  },
  {
   "cell_type": "code",
   "execution_count": null,
   "metadata": {},
   "outputs": [],
   "source": [
    "## importing the directories\n",
    "import cv2\n",
    "import matplotlib.pylab as plt\n",
    "\n",
    "# Reading pretrained models from .\n",
    "config_file = \"ssd_mobilenet_v3_large_coco_2020_01_14.pbtxt\"\n",
    "frozen_model = \"frozen_inference_graph.pb\"\n",
    "model = cv2.dnn_DetectionModel(frozen_model, config_file)\n",
    "\n",
    "# Reading data set from coco dataset which is already downloaded.\n",
    "classNames = []\n",
    "data = \"coco.names.txt\"\n",
    "with open(data,\"rt\") as p:\n",
    "    classNames = p.read().rstrip('\\n').split(('\\n'))\n",
    "\n",
    "# We are loading the model of equation and assigning value for input size; precision scale,\n",
    "# Setting the color scale and  converting it to BGR scale.\n",
    "model.setInputSize(320,320)                         # Size of input model as in config model its 320*320.\n",
    "model.setInputScale(1.0 / 127.5)                    # Value of white color is 255, so gray = 127.5\n",
    "model.setInputMean((127.5,127.5,127.5))             # Setting mean of every color in BGR (0-255).\n",
    "model.setInputSwapRB(True)                          # As for normal images its RGB and we want BGR hence swap.\n",
    "\n",
    "# Importing image/ video from machine or from webcam.\n",
    "cap = cv2.VideoCapture(\"Cars - 1900.mp4\")\n",
    "if not cap.isOpened():\n",
    "    cap = cv2.VideoCapture(0)\n",
    "if not cap.isOpened():\n",
    "    raise IOError ('unable to open')\n",
    "\n",
    "\n",
    "fontScale = 3\n",
    "font = cv2.FONT_HERSHEY_PLAIN\n",
    "\n",
    "# Displaying the detected box for an image and class for the same.\n",
    "while True:\n",
    "    ret,frame = cap.read()\n",
    "    classIndex, confidance, bbox = model.detect(frame, confThreshold=0.5)\n",
    "    print(classIndex)\n",
    "    if (len(classIndex)!=0):\n",
    "        for classInd, conf, box in zip(classIndex.flatten(), confidance.flatten(),bbox) :\n",
    "            if (classInd<=80):\n",
    "                cv2.rectangle(frame,box,(255,0,0),1)\n",
    "                cv2.putText(frame, classNames[classInd-1].upper(),(box[0], box[0]),font,fontScale,(0,0,255),1)\n",
    "    cv2.imshow(\"img\",frame)\n",
    "    if cv2.waitKey(2) & 0xFF == ord('q'):\n",
    "        break\n",
    "cap.release()\n",
    "cv2.destroyall"
   ]
  },
  {
   "cell_type": "code",
   "execution_count": null,
   "metadata": {},
   "outputs": [],
   "source": []
  }
 ],
 "metadata": {
  "kernelspec": {
   "display_name": "Python 3",
   "language": "python",
   "name": "python3"
  },
  "language_info": {
   "codemirror_mode": {
    "name": "ipython",
    "version": 3
   },
   "file_extension": ".py",
   "mimetype": "text/x-python",
   "name": "python",
   "nbconvert_exporter": "python",
   "pygments_lexer": "ipython3",
   "version": "3.8.5"
  }
 },
 "nbformat": 4,
 "nbformat_minor": 4
}
